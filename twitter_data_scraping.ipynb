{
 "cells": [
  {
   "cell_type": "code",
   "execution_count": null,
   "metadata": {},
   "outputs": [],
   "source": [
    "import tweepy\n",
    "import pandas as pd\n",
    "import time"
   ]
  },
  {
   "cell_type": "code",
   "execution_count": null,
   "metadata": {},
   "outputs": [],
   "source": [
    "#use your keys given by twitter.\n",
    "\n",
    "consumer_key = \"*******\"\n",
    "consumer_secret = \"********\"\n",
    "access_token = \"*******\"\n",
    "access_token_secret = \"*******\""
   ]
  },
  {
   "cell_type": "code",
   "execution_count": null,
   "metadata": {},
   "outputs": [],
   "source": [
    "auth = tweepy.OAuthHandler(consumer_key,consumer_secret)\n",
    "auth.set_access_token(access_token, access_token_secret)"
   ]
  },
  {
   "cell_type": "code",
   "execution_count": null,
   "metadata": {},
   "outputs": [],
   "source": [
    "api = tweepy.API(auth, wait_on_rate_limit=True, wait_on_rate_limit_notify=True)"
   ]
  },
  {
   "cell_type": "code",
   "execution_count": null,
   "metadata": {},
   "outputs": [],
   "source": [
    "public_tweets = api.home_timeline()"
   ]
  },
  {
   "cell_type": "code",
   "execution_count": null,
   "metadata": {},
   "outputs": [],
   "source": [
    "df = pd.DataFrame(columns=['text', 'hashtag'])\n",
    "msgs = []\n",
    "msg =[]\n",
    "#pages = tweepy.Cursor(api.search, q=\"#politic\", lang = 'en', rpp= 100).items(2400)\n",
    "while True:\n",
    "    try:\n",
    "        api = tweepy.API(auth, wait_on_rate_limit=True, wait_on_rate_limit_notify=True)\n",
    "        for tweet in tweepy.Cursor(api.search, q=\"#movie\", lang = 'en', rpp= 100, result_type = 'mixed',tweet_mode='extended').items(2400):\n",
    "            hashtag = \"movie\"\n",
    "            msg = [tweet.full_text, hashtag] \n",
    "            msg = tuple(msg)                    \n",
    "            msgs.append(msg)\n",
    "    except tweepy.RateLimitError:\n",
    "            print('sleep 15 minutes')\n",
    "            time.sleep(900)\n",
    "            continue\n",
    "    except tweepy.TweepError as e:\n",
    "            print(e)\n",
    "            df = pd.DataFrame(msgs)\n",
    "            df.to_csv('movie2.csv', index=False)\n",
    "            break\n",
    "df = pd.DataFrame(msgs)\n",
    "df.to_csv('movie2.csv', index=False)"
   ]
  }
 ],
 "metadata": {
  "kernelspec": {
   "display_name": "Python 3",
   "language": "python",
   "name": "python3"
  },
  "language_info": {
   "codemirror_mode": {
    "name": "ipython",
    "version": 3
   },
   "file_extension": ".py",
   "mimetype": "text/x-python",
   "name": "python",
   "nbconvert_exporter": "python",
   "pygments_lexer": "ipython3",
   "version": "3.8.1"
  }
 },
 "nbformat": 4,
 "nbformat_minor": 4
}
